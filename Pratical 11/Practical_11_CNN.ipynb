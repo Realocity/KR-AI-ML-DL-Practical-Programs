{
 "cells": [
  {
   "cell_type": "code",
   "execution_count": null,
   "metadata": {},
   "outputs": [],
   "source": [
    "# Name : Shubham Sapkal\n",
    "# Roll No. : 2012118\n",
    "# subject: ML DL\n",
    "# practical no. : 11 (A) & (B)"
   ]
  },
  {
   "cell_type": "markdown",
   "metadata": {},
   "source": [
    "# Implementing CNN using Pytorch"
   ]
  },
  {
   "cell_type": "markdown",
   "metadata": {},
   "source": [
    "* A Convolutional neural network (CNN) is a neural network that has one or more convolutional layers and are used mainly for **image processing, classification, segmentation and also for other auto correlated data.**\n",
    "* CNN’s are deep neural network models that were originally designed to analyze 2D image input but can now also analyze 1D and 3D data.\n",
    "* PyTorch is a very powerful framework for building deep learning.\n",
    "* PyTorch is one of the most well-known and widely used deep learning libraries, particularly in academic research. \n",
    "* It’s an open-source machine learning framework that shortens the time it takes to go from research prototyping to production deployment. \n",
    "* This implementation will be divided into major steps such as data loading, model building, model training, and model testing."
   ]
  },
  {
   "cell_type": "markdown",
   "metadata": {},
   "source": [
    "PyTorch is one of the most well-known and widely used deep learning libraries, particularly in academic research. It’s an open-source machine learning framework that shortens the time it takes to go from research prototyping to production deployment. This implementation will be divided into major steps such as data loading, model building, model training, and model testing."
   ]
  },
  {
   "cell_type": "markdown",
   "metadata": {
    "id": "SgFS8rK9Wf1m"
   },
   "source": [
    "# Import all the dependencies"
   ]
  },
  {
   "cell_type": "code",
   "execution_count": 1,
   "metadata": {
    "id": "ql8b-U0HVgDs"
   },
   "outputs": [],
   "source": [
    "#import pytorch\n",
    "import torch \n",
    "# access to some helpful neural network things, such as various neural network layer types (things like regular fully-connected layers, convolutional layers (for imagery), recurrent layers...etc).here,for fully-connected layers\n",
    "import torch.nn as nn \n",
    "import torchvision\n",
    "import torch.nn.functional as F\n",
    "import torchvision.transforms as transforms\n",
    "from torchvision.transforms.transforms import ToTensor\n",
    "# plot graphs\n",
    "import matplotlib.pyplot as plt\n",
    "import warnings \n",
    "warnings.filterwarnings('ignore')"
   ]
  },
  {
   "cell_type": "markdown",
   "metadata": {},
   "source": [
    "# Check device "
   ]
  },
  {
   "cell_type": "code",
   "execution_count": 2,
   "metadata": {
    "id": "pebGbjwGeYYD"
   },
   "outputs": [],
   "source": [
    "device = torch.device('cuda' if torch.cuda.is_available() else 'cpu')"
   ]
  },
  {
   "cell_type": "code",
   "execution_count": 3,
   "metadata": {
    "colab": {
     "base_uri": "https://localhost:8080/"
    },
    "id": "WnG4gi2KeaQw",
    "outputId": "c1cb72e2-7f03-45cc-d3c8-432d8a69d768"
   },
   "outputs": [
    {
     "data": {
      "text/plain": [
       "device(type='cuda')"
      ]
     },
     "execution_count": 3,
     "metadata": {},
     "output_type": "execute_result"
    }
   ],
   "source": [
    "device"
   ]
  },
  {
   "cell_type": "markdown",
   "metadata": {
    "id": "CWgLs2OyXY5q"
   },
   "source": [
    " # Preparing the dataset"
   ]
  },
  {
   "cell_type": "markdown",
   "metadata": {},
   "source": [
    "As discussed first we’ll load the dataset. The dataset we are using here is EMNIST which is an extended version of the MNIST dataset which contains handwritten digits along with small and capital handwritten letters. The training subset of this dataset contains nearly 1,20,000 images of size 28 x 28 pixels and those are in grayscale. We can load this dataset as train and test by specifying in the API itself.\n",
    "\n",
    "Below first we have defined pre-processing functionality to the images and those to be applied in training and testing dataset when downloading. Later we have used the data loader which comes in handy especially in these cases where we are having thousands of images and loading all those at the time will keep our system under a tremendous burden. The data loader makes this dataset iterable and callable efficiently.      "
   ]
  },
  {
   "cell_type": "code",
   "execution_count": 4,
   "metadata": {
    "id": "luXxxu1necM_"
   },
   "outputs": [],
   "source": [
    "# apply transformation\n",
    "transform = transforms.Compose([transforms.ToTensor(),\n",
    "  transforms.Normalize((0.5,), (0.5,))])\n",
    "\n",
    "# download the data\n",
    "training_data = torchvision.datasets.EMNIST(root='contents/',download=True, transform=transform, train=True,split='balanced')\n",
    "test_data = torchvision.datasets.EMNIST(root='contents/',download=True, transform=transform, train=False,split='balanced')\n",
    "\n",
    "# build the data loader\n",
    "train_loader = torch.utils.data.DataLoader(dataset = training_data,\n",
    "                                           batch_size = 128,\n",
    "                                           shuffle = True)\n",
    "\n",
    "test_loader = torch.utils.data.DataLoader(dataset = test_data,\n",
    "                                           batch_size = 128,\n",
    "                                           shuffle = True)"
   ]
  },
  {
   "cell_type": "code",
   "execution_count": 5,
   "metadata": {
    "colab": {
     "base_uri": "https://localhost:8080/"
    },
    "id": "OnQ0ecKWjwUm",
    "outputId": "c5c0c721-6629-4c33-d55a-8e41f03b5652"
   },
   "outputs": [
    {
     "data": {
      "text/plain": [
       "torch.Size([112800, 28, 28])"
      ]
     },
     "execution_count": 5,
     "metadata": {},
     "output_type": "execute_result"
    }
   ],
   "source": [
    "training_data.data.shape"
   ]
  },
  {
   "cell_type": "code",
   "execution_count": 6,
   "metadata": {
    "colab": {
     "base_uri": "https://localhost:8080/"
    },
    "id": "ZX3lykD2fuRt",
    "outputId": "2d8a26c7-7955-42ba-b78a-81b6d0b6bb6b"
   },
   "outputs": [
    {
     "data": {
      "text/plain": [
       "47"
      ]
     },
     "execution_count": 6,
     "metadata": {},
     "output_type": "execute_result"
    }
   ],
   "source": [
    "len(training_data.classes)"
   ]
  },
  {
   "cell_type": "code",
   "execution_count": 7,
   "metadata": {
    "colab": {
     "base_uri": "https://localhost:8080/",
     "height": 264
    },
    "id": "aa-lpZSKloR4",
    "outputId": "2322c76e-0a4a-4ed0-8504-5b36aefa0a62"
   },
   "outputs": [
    {
     "data": {
      "image/png": "[encoded data removed]",
      "text/plain": [
       "<Figure size 432x288 with 6 Axes>"
      ]
     },
     "metadata": {
      "needs_background": "light"
     },
     "output_type": "display_data"
    }
   ],
   "source": [
    "for i in range(6):\n",
    "  plt.subplot(2,3,i+1)\n",
    "  plt.imshow(training_data.data[i])\n",
    "  plt.title('Ground Truth: {}'.format(training_data.classes[training_data.targets[i]]))\n",
    "  plt.axis('off')"
   ]
  },
  {
   "cell_type": "markdown",
   "metadata": {},
   "source": [
    "Here are some of the samples of our dataset."
   ]
  },
  {
   "cell_type": "markdown",
   "metadata": {
    "id": "sV54vszSQYKb"
   },
   "source": [
    "# Building the model"
   ]
  },
  {
   "cell_type": "markdown",
   "metadata": {},
   "source": [
    "Next step comes for model definition. Here we’ll define our model like we define some sophisticated class in python. We can begin by creating a new class that makes use of PyTorch’s nn.Module class. This is essential when building a neural network because it provides us with a plethora of useful methods.\n",
    "\n",
    "The layers of our neural network must then be defined. This is done in the class’s __init__ method. We can just simply name our layers and assign them to the appropriate layer, such as for this case a convolutional layer, a pooling layer, a fully connected layer, and so on.\n",
    "\n",
    "Finally, in our class, we must define a forward method. The goal of this method is to specify the order in which the input data is processed by the various layers. Combinally all the above we can code it as,"
   ]
  },
  {
   "cell_type": "code",
   "execution_count": 8,
   "metadata": {
    "id": "ALmBKHJFB1Tj"
   },
   "outputs": [],
   "source": [
    "# considered model\n",
    "\n",
    "class CNNModel(nn.Module):\n",
    "    def __init__(self):\n",
    "        super(CNNModel, self).__init__()\n",
    "        self.conv1 = nn.Conv2d(in_channels=1, out_channels=32, kernel_size= 5,stride = 1)\n",
    "        self.conv2 = nn.Conv2d(32, 64, 5, 1)\n",
    "        self.fc = nn.Linear(64*20*20, 47)\n",
    " \n",
    "    def forward(self, x):\n",
    "        x = F.relu(self.conv1(x))\n",
    "        x = F.relu(self.conv2(x))\n",
    "        x = F.max_pool2d(x, 1)\n",
    "        x = torch.flatten(x, 1)\n",
    "        x = self.fc(x)\n",
    "        output = F.log_softmax(x, dim=1)\n",
    "        return output\n",
    "\n",
    "# initiating the model\n",
    "model = CNNModel()"
   ]
  },
  {
   "cell_type": "markdown",
   "metadata": {},
   "source": [
    "# Guidelines to be followed while building the model\n",
    "When you look at the layer distribution and sizes of the units under the layer, you might think that we can pass it arbitrarily well, but that’s not the case. Even though I also tried to approach in that arbitrary way at the end I got an error for dimension miss-match. \n",
    "\n",
    "This error mainly arises between the connection of our convolutional layer and the Linear layer. In PyTorch, each layer takes the series of mandatory arguments in our case as shown for the convolutional layer:input_channels, output_channels, kernels, and optionally a stride. \n",
    "\n",
    "We can not set input channels arbitrarily but based on the type of our image whether it is grayscale / or B&W for that it should be 1 else for RGB image it should be 3. We can set the output size to any number and we should make this equal to the input of the next consecutive layer. Kernels are nothing but the filter which is used to create a feature map for a given image and stride basically tells the movement of the kernel over an image here 1 signifies it is taking 1 step at a time. \n",
    "\n",
    "So out of the above Linear layer expect two essential dimensions i.e. input and output shape. When we connect the convolutional layer to the Linear layer it accepts essentially the size of our image. And the last convolutional layer the dimension of our images has been changed to is now no longer 28 x 28 pixels. \n",
    "\n",
    "To get the proper value of input channels of the linear layer the calculation can be made as follows,\n",
    "\n",
    "For the first layer, we have supplied a 28 x 28 image after applying 5 x 5 convolution pixels sizes are reduced by 4 on each side making 24 x 24 at output 1st layer.\n",
    "Further, at the next layer, we have the same filter of 5 x 5 this will make it a further 20 x 20 and this is the batch size of the single image at output 2nd layer.\n",
    "Now as we discussed the input channels for the linear layer should be 64*20*20. If you wish to increase the layers follow the kernel operation and get the appropriate batch size for fully connected layers.    \n",
    "\n",
    "Now let’s come to the model definition, in the forward method we have applied the activation function to each layer after that we have applied a pooling operation where we have used max-pooling, and after we have flattened the layers. And lastly, in the forward pass, we have applied the softmax function which will turn out to be a classifier. "
   ]
  },
  {
   "cell_type": "markdown",
   "metadata": {
    "id": "oTar_PPLQjip"
   },
   "source": [
    "# Compiling the model"
   ]
  },
  {
   "cell_type": "markdown",
   "metadata": {},
   "source": [
    "Now in next, we’ll compile our model, here we mainly define the loss function and optimizer function. Here cross-entropy is used as a loss function and a Stochastic gradient descent optimizer is used to reduce loss in the training process. "
   ]
  },
  {
   "cell_type": "code",
   "execution_count": 9,
   "metadata": {
    "id": "6dSgKecB78B6"
   },
   "outputs": [],
   "source": [
    "# loss function\n",
    "criterion = nn.CrossEntropyLoss()\n",
    "\n",
    "# Optimizer\n",
    "optimizer = torch.optim.SGD(model.parameters(), lr=0.001)  "
   ]
  },
  {
   "cell_type": "markdown",
   "metadata": {
    "id": "6xDwL_jKQp9G"
   },
   "source": [
    "# Training, testing and evaluation procedure "
   ]
  },
  {
   "cell_type": "markdown",
   "metadata": {},
   "source": [
    "Next, we have built all the procedures and calculations. Now it’s time to train the above model. Training in PyTorch is a bit tricky here. We have to access each element manually and have to be arranged in a loop to make it continuous training. The procedure is as follows.\n",
    "\n",
    "We begin by iterating through the number of epochs in our training data, followed by the batches. We convert the images and labels based on the device we’re using, whether it’s a GPU or a CPU. In the forward pass, we use our model to make predictions and then compute loss based on those predictions and our actual labels.\n",
    "\n",
    "Following that, we perform a backward pass in which we update our weights in order to improve our model. The gradients are then set to zero before each update using the optimizer.zero grad() function. The new gradients are then calculated using the loss.backward() function.\n",
    "\n",
    "Finally, we use the optimizer.step() function to update the weights."
   ]
  },
  {
   "cell_type": "code",
   "execution_count": 10,
   "metadata": {
    "id": "FSF5Xk6q8IWz"
   },
   "outputs": [],
   "source": [
    "# fetch model to the working device\n",
    "model.to(device)\n",
    "\n",
    "# training loss\n",
    "train_loss = []\n",
    "test_losses =[]\n",
    "def train(e):\n",
    "    #Load in the data \n",
    "    for i, (images, labels) in enumerate(train_loader):  \n",
    "      # load data on to device\n",
    "      images = images.to(device)\n",
    "      labels = labels.to(device)\n",
    "          \n",
    "      # Forward pass\n",
    "      outputs = model(images)\n",
    "      loss = criterion(outputs, labels)\n",
    "          \n",
    "      # Backward and optimize\n",
    "      optimizer.zero_grad()\n",
    "      loss.backward()\n",
    "      optimizer.step()\n",
    "    train_loss.append(loss.item())\n",
    "    print('Epoch [{}/{}], Train Loss: {:.4f}'.format(e+1, 10, loss.item()))"
   ]
  },
  {
   "cell_type": "markdown",
   "metadata": {},
   "source": [
    "Similarly, the testing technique is not dissimilar to the training procedure, with the exception of calculating the gradients because we are not updating any weights. We enclose the code with torch.no grad() because there is no need to calculate gradients. We next use our model to anticipate each batch and calculate how many of them are correct."
   ]
  },
  {
   "cell_type": "code",
   "execution_count": 11,
   "metadata": {
    "id": "wglFD-ZXxoGz"
   },
   "outputs": [],
   "source": [
    "def test():\n",
    "  test_loss = 0\n",
    "  with torch.no_grad():\n",
    "      correct = 0\n",
    "      total = 0\n",
    "      for images, labels in test_loader:\n",
    "          images = images.to(device)\n",
    "          labels = labels.to(device)\n",
    "          outputs = model(images)\n",
    "          test_loss += F.nll_loss(outputs, labels, size_average=False).item()\n",
    "          _, predicted = torch.max(outputs.data, 1)\n",
    "          total += labels.size(0)\n",
    "          correct += (predicted == labels).sum().item()\n",
    "      test_loss /= len(test_loader.dataset)\n",
    "      test_losses.append(test_loss)\n",
    "      print('Test Accuracy: {:4f} %, Test loss: {:4f}'.format((100 * correct / total),test_loss))"
   ]
  },
  {
   "cell_type": "markdown",
   "metadata": {},
   "source": [
    "We can start the training and testing simultaneously by using the two functions defined above. "
   ]
  },
  {
   "cell_type": "code",
   "execution_count": 12,
   "metadata": {
    "colab": {
     "base_uri": "https://localhost:8080/"
    },
    "id": "YSxPhjW50roT",
    "outputId": "6fae6c37-8439-4011-9ae4-44719cf98ac6"
   },
   "outputs": [
    {
     "name": "stdout",
     "output_type": "stream",
     "text": [
      "Epoch [1/10], Train Loss: 1.1428\n",
      "Test Accuracy: 56.473404 %, Test loss: 1.543292\n",
      "Epoch [2/10], Train Loss: 1.2066\n",
      "Test Accuracy: 56.989362 %, Test loss: 1.515931\n",
      "Epoch [3/10], Train Loss: 1.3632\n",
      "Test Accuracy: 62.989362 %, Test loss: 1.313800\n",
      "Epoch [4/10], Train Loss: 1.3434\n",
      "Test Accuracy: 65.191489 %, Test loss: 1.220282\n",
      "Epoch [5/10], Train Loss: 1.1305\n",
      "Test Accuracy: 66.888298 %, Test loss: 1.171964\n",
      "Epoch [6/10], Train Loss: 1.1108\n",
      "Test Accuracy: 68.430851 %, Test loss: 1.083970\n",
      "Epoch [7/10], Train Loss: 1.1863\n",
      "Test Accuracy: 71.148936 %, Test loss: 1.036072\n",
      "Epoch [8/10], Train Loss: 1.0374\n",
      "Test Accuracy: 73.936170 %, Test loss: 0.905116\n",
      "Epoch [9/10], Train Loss: 0.5901\n",
      "Test Accuracy: 75.414894 %, Test loss: 0.832832\n",
      "Epoch [10/10], Train Loss: 0.6874\n",
      "Test Accuracy: 77.686170 %, Test loss: 0.769019\n"
     ]
    }
   ],
   "source": [
    "for i in range(10):\n",
    "  train(i)\n",
    "  test()"
   ]
  },
  {
   "cell_type": "markdown",
   "metadata": {
    "id": "fBAQyoaYQFVZ"
   },
   "source": [
    "**This results in a testing accuracy of about 78%.since value is between 70% and 80%, we've got a good model.**"
   ]
  },
  {
   "cell_type": "markdown",
   "metadata": {},
   "source": [
    "# legend plot- View Loss History"
   ]
  },
  {
   "cell_type": "markdown",
   "metadata": {},
   "source": [
    " A legend is an area describing the elements of the graph."
   ]
  },
  {
   "cell_type": "code",
   "execution_count": 13,
   "metadata": {
    "colab": {
     "base_uri": "https://localhost:8080/",
     "height": 368
    },
    "id": "v4Vr8OBd-Ub3",
    "outputId": "fa6a7bc4-4e56-4207-c02e-d2e3ec25d882"
   },
   "outputs": [
    {
     "data": {
      "text/plain": [
       "<matplotlib.legend.Legend at 0x20ec73c2670>"
      ]
     },
     "execution_count": 13,
     "metadata": {},
     "output_type": "execute_result"
    },
    {
     "data": {
      "image/png": "[encoded data removed]",
      "text/plain": [
       "<Figure size 504x360 with 1 Axes>"
      ]
     },
     "metadata": {
      "needs_background": "light"
     },
     "output_type": "display_data"
    }
   ],
   "source": [
    "plt.figure(figsize=(7,5))\n",
    "plt.plot(train_loss,label='Train loss')\n",
    "plt.plot(test_losses, label='Test loss')\n",
    "plt.xlabel('Epochs')\n",
    "plt.ylabel('Loss')\n",
    "plt.title('Loss vs Epochs')\n",
    "plt.legend()"
   ]
  },
  {
   "cell_type": "markdown",
   "metadata": {},
   "source": [
    "# Conclusion:\n",
    "we have seen the working of convolutional neural network and we have implemented it practically using the PyTorch. If we compare this with other frameworks, PyTorch is built to be more developer-centric. To use PyTorch one should have a clear understanding of the application. In this case, we have developed CNN so that we should be able to trace the convolutional operation through the layers."
   ]
  }
 ],
 "metadata": {
  "accelerator": "GPU",
  "colab": {
   "collapsed_sections": [],
   "name": "Practical 11 - CNN .ipynb",
   "provenance": []
  },
  "kernelspec": {
   "display_name": "Python 3 (ipykernel)",
   "language": "python",
   "name": "python3"
  },
  "language_info": {
   "codemirror_mode": {
    "name": "ipython",
    "version": 3
   },
   "file_extension": ".py",
   "mimetype": "text/x-python",
   "name": "python",
   "nbconvert_exporter": "python",
   "pygments_lexer": "ipython3",
   "version": "3.9.7"
  }
 },
 "nbformat": 4,
 "nbformat_minor": 1
}

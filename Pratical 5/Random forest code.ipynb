{
 "cells": [
  {
   "cell_type": "code",
   "execution_count": 1,
   "metadata": {},
   "outputs": [
    {
     "name": "stdout",
     "output_type": "stream",
     "text": [
      "Confusion Matrix:\n",
      "[[16  0  0]\n",
      " [ 0 14  1]\n",
      " [ 0  2 12]]\n",
      "Classification Report:\n",
      "                 precision    recall  f1-score   support\n",
      "\n",
      "    Iris-setosa       1.00      1.00      1.00        16\n",
      "Iris-versicolor       0.88      0.93      0.90        15\n",
      " Iris-virginica       0.92      0.86      0.89        14\n",
      "\n",
      "       accuracy                           0.93        45\n",
      "      macro avg       0.93      0.93      0.93        45\n",
      "   weighted avg       0.93      0.93      0.93        45\n",
      "\n",
      "Accuracy: 0.9333333333333333\n"
     ]
    }
   ],
   "source": [
    "# Name : Shubham Sapkal\n",
    "# Roll No. : 2012118\n",
    "# subject: ML DL\n",
    "# practical no. : 5\n",
    "\n",
    "# Practical 5: Random forest model \n",
    "\n",
    "#First, start with importing necessary Python packages −\n",
    "import numpy as np\n",
    "import matplotlib.pyplot as plt\n",
    "import pandas as pd\n",
    "\n",
    "#Next, download the iris dataset from its weblink as follows −\n",
    "path = \"https://archive.ics.uci.edu/ml/machine-learning-databases/iris/iris.data\"\n",
    "\n",
    "\n",
    "#Next, we need to assign column names to the dataset as follows −\n",
    "headernames = ['sepal-length', 'sepal-width', 'petal-length', 'petal-width', 'Class']\n",
    "\n",
    "\n",
    "#Now, we need to read dataset to pandas dataframe as follows −\n",
    "dataset = pd.read_csv(path, names = headernames)\n",
    "dataset.head()\n",
    "\n",
    "#Data Preprocessing will be done with the help of following script lines.\n",
    "X = dataset.iloc[:, :-1].values\n",
    "y = dataset.iloc[:, 4].values\n",
    "\n",
    "\n",
    "\n",
    "#Next, we will divide the data into train and test split. The followingcode will split the dataset into 70% training data and 30% of testing data −\n",
    "from sklearn.model_selection import train_test_split\n",
    "X_train, X_test, y_train, y_test = train_test_split(X, y, test_size = 0.30)\n",
    "\n",
    "\n",
    "#Next, train the model with the help of RandomForestClassifier class of sklearn as follows −\n",
    "from sklearn.ensemble import RandomForestClassifier\n",
    "classifier = RandomForestClassifier(n_estimators = 50)\n",
    "classifier.fit(X_train, y_train)\n",
    "RandomForestClassifier(n_estimators=50)\n",
    "#At last, we need to make prediction. It can be done with the help of following script −\n",
    "y_pred = classifier.predict(X_test)\n",
    "\n",
    "\n",
    "#Next, print the results as follows −\n",
    "from sklearn.metrics import classification_report, confusion_matrix, accuracy_score\n",
    "result = confusion_matrix(y_test, y_pred)\n",
    "print(\"Confusion Matrix:\")\n",
    "print(result)\n",
    "result1 = classification_report(y_test, y_pred)\n",
    "print(\"Classification Report:\",)\n",
    "print (result1)\n",
    "result2 = accuracy_score(y_test,y_pred)\n",
    "print(\"Accuracy:\",result2)\n",
    "\n",
    "\n"
   ]
  }
 ],
 "metadata": {
  "interpreter": {
   "hash": "4e0b39fdc4f2df2992ef135d097972ec225e019845a073717c5b1bc8df292c8a"
  },
  "kernelspec": {
   "display_name": "Python 3.10.1 64-bit",
   "language": "python",
   "name": "python3"
  },
  "language_info": {
   "codemirror_mode": {
    "name": "ipython",
    "version": 3
   },
   "file_extension": ".py",
   "mimetype": "text/x-python",
   "name": "python",
   "nbconvert_exporter": "python",
   "pygments_lexer": "ipython3",
   "version": "3.10.1"
  },
  "orig_nbformat": 4
 },
 "nbformat": 4,
 "nbformat_minor": 2
}

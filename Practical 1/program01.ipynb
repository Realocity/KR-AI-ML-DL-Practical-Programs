{
 "cells": [
  {
   "cell_type": "code",
   "execution_count": 1,
   "metadata": {},
   "outputs": [
    {
     "name": "stdout",
     "output_type": "stream",
     "text": [
      "Dataframe is : \n",
      "    Temp  Celsius\n",
      "0     10       20\n",
      "1     30       40\n",
      "2     44       34\n",
      "3     28       28\n",
      "4     36       36\n",
      "5     19       19\n",
      "6     50       50\n",
      "7     37       37\n",
      "8     42       42\n",
      "9     31       31\n",
      "10    43       30\n",
      "11    18       55\n",
      "12    30       24\n",
      "13    55       15\n",
      "14    24       29\n",
      "15    15       40\n",
      "16    29       36\n",
      "17    40       51\n",
      "18    36       45\n",
      "19    51       41\n",
      "20    45       39\n",
      "21    41       24\n",
      "22    39       18\n",
      "23    24       47\n",
      "24    18       28\n",
      "25    47       40\n",
      "26    28       36\n",
      "27    40       19\n",
      "28    30       50\n",
      "29    36       37\n",
      "30    29       42\n"
     ]
    },
    {
     "data": {
      "image/png": "[encoded data removed]",
      "text/plain": [
       "<Figure size 432x288 with 1 Axes>"
      ]
     },
     "metadata": {
      "needs_background": "light"
     },
     "output_type": "display_data"
    },
    {
     "name": "stdout",
     "output_type": "stream",
     "text": [
      "Correlation matrix is : \n",
      "             Temp   Celsius\n",
      "Temp     1.000000  0.030836\n",
      "Celsius  0.030836  1.000000\n"
     ]
    }
   ],
   "source": [
    "# Name : Shubham Sapkal\n",
    "# Roll No. : 2012118\n",
    "# subject: ML DL\n",
    "# practical no. : 1\n",
    "\n",
    "import pandas as pd\n",
    "import numpy as np\n",
    "import matplotlib.pyplot as plt\n",
    " \n",
    " \n",
    "# collect data\n",
    "data = {'Temp': [10,30,44,28,36,19,50,37,42,31,43,18,30,55,24,15,29,40,36,51,45,41,39,24,18,47,28,40,30,36,29],\n",
    "        'Celsius': [20,40,34,28,36,19,50,37,42,31,30,55,24,15,29,40,36,51,45,41,39,24,18,47,28,40,36,19,50,37,42]\n",
    "}\n",
    "\n",
    "# form dataframe\n",
    "dataframe = pd.DataFrame(data, columns=['Temp', 'Celsius'])\n",
    "print(\"Dataframe is : \")\n",
    "print(dataframe)\n",
    "plt.scatter(dataframe['Temp'], dataframe['Celsius'])\n",
    "plt.plot(np.unique(dataframe['Temp']), np.poly1d(np.polyfit(dataframe['Temp'], dataframe['Celsius'], 1))(np.unique(dataframe['Temp'])), color='red')\n",
    "plt.xlabel('Temp')\n",
    "plt.ylabel('Celsius')\n",
    "plt.show()\n",
    " \n",
    "# form correlation matrix\n",
    "matrix = dataframe.corr()\n",
    "print(\"Correlation matrix is : \")\n",
    "print(matrix)\n"
   ]
  }
 ],
 "metadata": {
  "interpreter": {
   "hash": "4e0b39fdc4f2df2992ef135d097972ec225e019845a073717c5b1bc8df292c8a"
  },
  "kernelspec": {
   "display_name": "Python 3.10.1 64-bit",
   "language": "python",
   "name": "python3"
  },
  "language_info": {
   "codemirror_mode": {
    "name": "ipython",
    "version": 3
   },
   "file_extension": ".py",
   "mimetype": "text/x-python",
   "name": "python",
   "nbconvert_exporter": "python",
   "pygments_lexer": "ipython3",
   "version": "3.10.1"
  },
  "orig_nbformat": 4
 },
 "nbformat": 4,
 "nbformat_minor": 2
}

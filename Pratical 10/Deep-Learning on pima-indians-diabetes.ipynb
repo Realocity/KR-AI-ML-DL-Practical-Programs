{
 "cells": [
  {
   "cell_type": "code",
   "execution_count": 1,
   "id": "3159d558",
   "metadata": {},
   "outputs": [],
   "source": [
    "# Name : Shubham Sapkal\n",
    "# Roll No. : 2012118\n",
    "# subject: ML DL\n",
    "# practical no. : 10 (B)"
   ]
  },
  {
   "cell_type": "markdown",
   "id": "3312be82",
   "metadata": {},
   "source": [
    "# Importing The Libraries"
   ]
  },
  {
   "cell_type": "code",
   "execution_count": 2,
   "id": "61d08951",
   "metadata": {},
   "outputs": [],
   "source": [
    "from numpy import loadtxt\n",
    "from keras.models import Sequential\n",
    "from keras.layers import Dense"
   ]
  },
  {
   "cell_type": "markdown",
   "id": "0211395e",
   "metadata": {},
   "source": [
    "# Load The DataSets"
   ]
  },
  {
   "cell_type": "code",
   "execution_count": 3,
   "id": "3b40e3f4",
   "metadata": {},
   "outputs": [],
   "source": [
    "dataset = loadtxt('pima-indians-diabetes.csv',delimiter=',')"
   ]
  },
  {
   "cell_type": "code",
   "execution_count": 4,
   "id": "19594f98",
   "metadata": {},
   "outputs": [
    {
     "data": {
      "text/plain": [
       "array([[  6.   , 148.   ,  72.   , ...,   0.627,  50.   ,   1.   ],\n",
       "       [  1.   ,  85.   ,  66.   , ...,   0.351,  31.   ,   0.   ],\n",
       "       [  8.   , 183.   ,  64.   , ...,   0.672,  32.   ,   1.   ],\n",
       "       ...,\n",
       "       [  5.   , 121.   ,  72.   , ...,   0.245,  30.   ,   0.   ],\n",
       "       [  1.   , 126.   ,  60.   , ...,   0.349,  47.   ,   1.   ],\n",
       "       [  1.   ,  93.   ,  70.   , ...,   0.315,  23.   ,   0.   ]])"
      ]
     },
     "execution_count": 4,
     "metadata": {},
     "output_type": "execute_result"
    }
   ],
   "source": [
    "dataset"
   ]
  },
  {
   "cell_type": "markdown",
   "id": "94ecd9bc",
   "metadata": {},
   "source": [
    "# Split Into Input (X) and Output (y) Variable"
   ]
  },
  {
   "cell_type": "code",
   "execution_count": 5,
   "id": "9c40cf04",
   "metadata": {},
   "outputs": [],
   "source": [
    "X = dataset[:,0:8]\n",
    "y = dataset[:,8]"
   ]
  },
  {
   "cell_type": "markdown",
   "id": "2ff04da1",
   "metadata": {},
   "source": [
    "# Define The Keras Model"
   ]
  },
  {
   "cell_type": "code",
   "execution_count": 6,
   "id": "e9235155",
   "metadata": {},
   "outputs": [],
   "source": [
    "model = Sequential()"
   ]
  },
  {
   "cell_type": "code",
   "execution_count": 7,
   "id": "8b6c3263",
   "metadata": {},
   "outputs": [],
   "source": [
    "model.add(Dense(12,input_dim=8,activation='relu'))\n",
    "model.add(Dense(8,activation='relu'))\n",
    "model.add(Dense(1,activation='sigmoid'))\n",
    "model.compile(loss='binary_crossentropy',optimizer='adam',metrics=['accuracy'])"
   ]
  },
  {
   "cell_type": "markdown",
   "id": "8ab78ecc",
   "metadata": {},
   "source": [
    "# Fit The Keras Model In DataSet"
   ]
  },
  {
   "cell_type": "code",
   "execution_count": 8,
   "id": "ee43f406",
   "metadata": {},
   "outputs": [
    {
     "name": "stdout",
     "output_type": "stream",
     "text": [
      "Epoch 1/150\n",
      "77/77 [==============================] - 5s 4ms/step - loss: 6.3282 - accuracy: 0.4805\n",
      "Epoch 2/150\n",
      "77/77 [==============================] - 0s 3ms/step - loss: 1.3042 - accuracy: 0.6198\n",
      "Epoch 3/150\n",
      "77/77 [==============================] - 0s 3ms/step - loss: 0.8671 - accuracy: 0.6367\n",
      "Epoch 4/150\n",
      "77/77 [==============================] - 0s 3ms/step - loss: 0.7161 - accuracy: 0.6497\n",
      "Epoch 5/150\n",
      "77/77 [==============================] - 0s 3ms/step - loss: 0.6820 - accuracy: 0.6602\n",
      "Epoch 6/150\n",
      "77/77 [==============================] - 0s 4ms/step - loss: 0.6658 - accuracy: 0.6523\n",
      "Epoch 7/150\n",
      "77/77 [==============================] - 0s 3ms/step - loss: 0.6629 - accuracy: 0.6549\n",
      "Epoch 8/150\n",
      "77/77 [==============================] - 0s 3ms/step - loss: 0.6428 - accuracy: 0.6536\n",
      "Epoch 9/150\n",
      "77/77 [==============================] - 0s 3ms/step - loss: 0.6355 - accuracy: 0.6732\n",
      "Epoch 10/150\n",
      "77/77 [==============================] - 0s 5ms/step - loss: 0.6404 - accuracy: 0.6693\n",
      "Epoch 11/150\n",
      "77/77 [==============================] - 0s 4ms/step - loss: 0.6343 - accuracy: 0.6706\n",
      "Epoch 12/150\n",
      "77/77 [==============================] - 0s 4ms/step - loss: 0.6282 - accuracy: 0.6719\n",
      "Epoch 13/150\n",
      "77/77 [==============================] - 0s 4ms/step - loss: 0.6201 - accuracy: 0.6628\n",
      "Epoch 14/150\n",
      "77/77 [==============================] - 0s 3ms/step - loss: 0.6228 - accuracy: 0.6732\n",
      "Epoch 15/150\n",
      "77/77 [==============================] - 0s 3ms/step - loss: 0.6149 - accuracy: 0.6732\n",
      "Epoch 16/150\n",
      "77/77 [==============================] - 0s 3ms/step - loss: 0.6131 - accuracy: 0.6745\n",
      "Epoch 17/150\n",
      "77/77 [==============================] - 0s 3ms/step - loss: 0.6122 - accuracy: 0.6732\n",
      "Epoch 18/150\n",
      "77/77 [==============================] - 0s 3ms/step - loss: 0.6003 - accuracy: 0.6875\n",
      "Epoch 19/150\n",
      "77/77 [==============================] - 0s 3ms/step - loss: 0.6013 - accuracy: 0.6810\n",
      "Epoch 20/150\n",
      "77/77 [==============================] - 0s 3ms/step - loss: 0.5959 - accuracy: 0.6771\n",
      "Epoch 21/150\n",
      "77/77 [==============================] - 0s 4ms/step - loss: 0.5968 - accuracy: 0.6849\n",
      "Epoch 22/150\n",
      "77/77 [==============================] - 0s 4ms/step - loss: 0.5935 - accuracy: 0.6888\n",
      "Epoch 23/150\n",
      "77/77 [==============================] - 0s 3ms/step - loss: 0.5992 - accuracy: 0.6810\n",
      "Epoch 24/150\n",
      "77/77 [==============================] - 0s 3ms/step - loss: 0.5928 - accuracy: 0.6927\n",
      "Epoch 25/150\n",
      "77/77 [==============================] - 0s 3ms/step - loss: 0.5929 - accuracy: 0.6862\n",
      "Epoch 26/150\n",
      "77/77 [==============================] - 0s 3ms/step - loss: 0.5937 - accuracy: 0.6810\n",
      "Epoch 27/150\n",
      "77/77 [==============================] - 0s 3ms/step - loss: 0.5872 - accuracy: 0.6836\n",
      "Epoch 28/150\n",
      "77/77 [==============================] - 0s 3ms/step - loss: 0.5872 - accuracy: 0.6927\n",
      "Epoch 29/150\n",
      "77/77 [==============================] - 0s 4ms/step - loss: 0.5852 - accuracy: 0.6836\n",
      "Epoch 30/150\n",
      "77/77 [==============================] - 0s 4ms/step - loss: 0.5882 - accuracy: 0.6771\n",
      "Epoch 31/150\n",
      "77/77 [==============================] - 0s 4ms/step - loss: 0.5840 - accuracy: 0.6901\n",
      "Epoch 32/150\n",
      "77/77 [==============================] - 0s 3ms/step - loss: 0.5806 - accuracy: 0.6875\n",
      "Epoch 33/150\n",
      "77/77 [==============================] - 0s 3ms/step - loss: 0.5860 - accuracy: 0.6888\n",
      "Epoch 34/150\n",
      "77/77 [==============================] - 0s 3ms/step - loss: 0.5821 - accuracy: 0.6953\n",
      "Epoch 35/150\n",
      "77/77 [==============================] - 0s 3ms/step - loss: 0.5859 - accuracy: 0.6888\n",
      "Epoch 36/150\n",
      "77/77 [==============================] - 0s 3ms/step - loss: 0.5821 - accuracy: 0.6836\n",
      "Epoch 37/150\n",
      "77/77 [==============================] - 0s 3ms/step - loss: 0.5794 - accuracy: 0.6940\n",
      "Epoch 38/150\n",
      "77/77 [==============================] - 0s 3ms/step - loss: 0.5806 - accuracy: 0.6901\n",
      "Epoch 39/150\n",
      "77/77 [==============================] - 0s 3ms/step - loss: 0.5829 - accuracy: 0.6901\n",
      "Epoch 40/150\n",
      "77/77 [==============================] - 0s 3ms/step - loss: 0.5794 - accuracy: 0.6927\n",
      "Epoch 41/150\n",
      "77/77 [==============================] - 0s 5ms/step - loss: 0.5798 - accuracy: 0.6914\n",
      "Epoch 42/150\n",
      "77/77 [==============================] - 0s 4ms/step - loss: 0.5781 - accuracy: 0.6914\n",
      "Epoch 43/150\n",
      "77/77 [==============================] - 0s 3ms/step - loss: 0.5862 - accuracy: 0.6888\n",
      "Epoch 44/150\n",
      "77/77 [==============================] - 0s 3ms/step - loss: 0.5812 - accuracy: 0.6901\n",
      "Epoch 45/150\n",
      "77/77 [==============================] - 0s 3ms/step - loss: 0.5774 - accuracy: 0.6901\n",
      "Epoch 46/150\n",
      "77/77 [==============================] - 0s 3ms/step - loss: 0.5847 - accuracy: 0.6901\n",
      "Epoch 47/150\n",
      "77/77 [==============================] - 0s 3ms/step - loss: 0.5778 - accuracy: 0.6914\n",
      "Epoch 48/150\n",
      "77/77 [==============================] - 0s 3ms/step - loss: 0.5786 - accuracy: 0.6927\n",
      "Epoch 49/150\n",
      "77/77 [==============================] - 0s 3ms/step - loss: 0.5788 - accuracy: 0.6862\n",
      "Epoch 50/150\n",
      "77/77 [==============================] - 0s 3ms/step - loss: 0.5764 - accuracy: 0.6953\n",
      "Epoch 51/150\n",
      "77/77 [==============================] - 0s 3ms/step - loss: 0.5801 - accuracy: 0.6901\n",
      "Epoch 52/150\n",
      "77/77 [==============================] - 0s 3ms/step - loss: 0.5796 - accuracy: 0.6927\n",
      "Epoch 53/150\n",
      "77/77 [==============================] - 0s 3ms/step - loss: 0.5782 - accuracy: 0.6901\n",
      "Epoch 54/150\n",
      "77/77 [==============================] - 0s 3ms/step - loss: 0.5775 - accuracy: 0.6940\n",
      "Epoch 55/150\n",
      "77/77 [==============================] - 0s 3ms/step - loss: 0.5735 - accuracy: 0.6966\n",
      "Epoch 56/150\n",
      "77/77 [==============================] - 0s 3ms/step - loss: 0.5779 - accuracy: 0.6875\n",
      "Epoch 57/150\n",
      "77/77 [==============================] - 0s 3ms/step - loss: 0.5779 - accuracy: 0.6862\n",
      "Epoch 58/150\n",
      "77/77 [==============================] - 0s 3ms/step - loss: 0.5717 - accuracy: 0.6953\n",
      "Epoch 59/150\n",
      "77/77 [==============================] - 0s 3ms/step - loss: 0.5723 - accuracy: 0.6901\n",
      "Epoch 60/150\n",
      "77/77 [==============================] - 0s 3ms/step - loss: 0.5702 - accuracy: 0.7031\n",
      "Epoch 61/150\n",
      "77/77 [==============================] - 0s 3ms/step - loss: 0.5739 - accuracy: 0.6940\n",
      "Epoch 62/150\n",
      "77/77 [==============================] - 0s 3ms/step - loss: 0.5703 - accuracy: 0.6992\n",
      "Epoch 63/150\n",
      "77/77 [==============================] - 0s 3ms/step - loss: 0.5803 - accuracy: 0.6875\n",
      "Epoch 64/150\n",
      "77/77 [==============================] - 0s 4ms/step - loss: 0.5733 - accuracy: 0.6992\n",
      "Epoch 65/150\n",
      "77/77 [==============================] - 0s 4ms/step - loss: 0.5707 - accuracy: 0.6953\n",
      "Epoch 66/150\n",
      "77/77 [==============================] - 0s 3ms/step - loss: 0.5725 - accuracy: 0.6966\n",
      "Epoch 67/150\n",
      "77/77 [==============================] - 0s 3ms/step - loss: 0.5730 - accuracy: 0.6992\n",
      "Epoch 68/150\n",
      "77/77 [==============================] - 0s 3ms/step - loss: 0.5698 - accuracy: 0.6966\n",
      "Epoch 69/150\n",
      "77/77 [==============================] - 0s 3ms/step - loss: 0.5804 - accuracy: 0.6914\n",
      "Epoch 70/150\n",
      "77/77 [==============================] - 0s 3ms/step - loss: 0.5750 - accuracy: 0.7018\n",
      "Epoch 71/150\n",
      "77/77 [==============================] - 0s 3ms/step - loss: 0.5726 - accuracy: 0.6914\n",
      "Epoch 72/150\n",
      "77/77 [==============================] - 0s 3ms/step - loss: 0.5674 - accuracy: 0.7096\n",
      "Epoch 73/150\n",
      "77/77 [==============================] - 0s 3ms/step - loss: 0.5748 - accuracy: 0.6914\n",
      "Epoch 74/150\n",
      "77/77 [==============================] - 0s 3ms/step - loss: 0.5688 - accuracy: 0.6979\n",
      "Epoch 75/150\n",
      "77/77 [==============================] - 0s 5ms/step - loss: 0.5744 - accuracy: 0.6953\n",
      "Epoch 76/150\n",
      "77/77 [==============================] - 0s 3ms/step - loss: 0.5688 - accuracy: 0.7070\n",
      "Epoch 77/150\n",
      "77/77 [==============================] - 0s 4ms/step - loss: 0.5701 - accuracy: 0.7109\n",
      "Epoch 78/150\n",
      "77/77 [==============================] - 0s 3ms/step - loss: 0.5705 - accuracy: 0.6979\n",
      "Epoch 79/150\n",
      "77/77 [==============================] - 0s 3ms/step - loss: 0.5699 - accuracy: 0.6927\n",
      "Epoch 80/150\n",
      "77/77 [==============================] - 0s 3ms/step - loss: 0.5742 - accuracy: 0.7018\n",
      "Epoch 81/150\n",
      "77/77 [==============================] - 0s 3ms/step - loss: 0.5663 - accuracy: 0.7044\n",
      "Epoch 82/150\n",
      "77/77 [==============================] - 0s 3ms/step - loss: 0.5692 - accuracy: 0.7083\n",
      "Epoch 83/150\n",
      "77/77 [==============================] - 0s 3ms/step - loss: 0.5678 - accuracy: 0.7057\n",
      "Epoch 84/150\n",
      "77/77 [==============================] - 0s 3ms/step - loss: 0.5740 - accuracy: 0.7005\n",
      "Epoch 85/150\n",
      "77/77 [==============================] - 0s 3ms/step - loss: 0.5678 - accuracy: 0.7031\n",
      "Epoch 86/150\n",
      "77/77 [==============================] - 0s 3ms/step - loss: 0.5652 - accuracy: 0.6927\n",
      "Epoch 87/150\n",
      "77/77 [==============================] - 0s 3ms/step - loss: 0.5666 - accuracy: 0.7096\n",
      "Epoch 88/150\n",
      "77/77 [==============================] - 0s 3ms/step - loss: 0.5633 - accuracy: 0.7018\n",
      "Epoch 89/150\n",
      "77/77 [==============================] - 0s 3ms/step - loss: 0.5647 - accuracy: 0.7057\n",
      "Epoch 90/150\n",
      "77/77 [==============================] - 0s 3ms/step - loss: 0.5642 - accuracy: 0.7031\n",
      "Epoch 91/150\n",
      "77/77 [==============================] - 0s 3ms/step - loss: 0.5664 - accuracy: 0.7018\n",
      "Epoch 92/150\n",
      "77/77 [==============================] - 0s 3ms/step - loss: 0.5636 - accuracy: 0.6979\n",
      "Epoch 93/150\n",
      "77/77 [==============================] - 0s 3ms/step - loss: 0.5691 - accuracy: 0.6992\n",
      "Epoch 94/150\n",
      "77/77 [==============================] - 0s 3ms/step - loss: 0.5635 - accuracy: 0.6966\n",
      "Epoch 95/150\n",
      "77/77 [==============================] - 0s 4ms/step - loss: 0.5681 - accuracy: 0.6888\n",
      "Epoch 96/150\n",
      "77/77 [==============================] - 0s 4ms/step - loss: 0.5661 - accuracy: 0.6966\n",
      "Epoch 97/150\n",
      "77/77 [==============================] - 0s 4ms/step - loss: 0.5630 - accuracy: 0.7083\n",
      "Epoch 98/150\n",
      "77/77 [==============================] - 0s 4ms/step - loss: 0.5691 - accuracy: 0.6992\n",
      "Epoch 99/150\n",
      "77/77 [==============================] - 0s 4ms/step - loss: 0.5739 - accuracy: 0.6940\n",
      "Epoch 100/150\n",
      "77/77 [==============================] - 0s 3ms/step - loss: 0.5651 - accuracy: 0.7096\n",
      "Epoch 101/150\n",
      "77/77 [==============================] - 0s 3ms/step - loss: 0.5622 - accuracy: 0.6940\n",
      "Epoch 102/150\n",
      "77/77 [==============================] - 0s 3ms/step - loss: 0.5620 - accuracy: 0.7070\n",
      "Epoch 103/150\n",
      "77/77 [==============================] - 0s 3ms/step - loss: 0.5677 - accuracy: 0.7057\n",
      "Epoch 104/150\n",
      "77/77 [==============================] - 0s 3ms/step - loss: 0.5675 - accuracy: 0.7005\n",
      "Epoch 105/150\n",
      "77/77 [==============================] - 0s 5ms/step - loss: 0.5639 - accuracy: 0.7005\n",
      "Epoch 106/150\n",
      "77/77 [==============================] - 0s 3ms/step - loss: 0.5635 - accuracy: 0.7005\n",
      "Epoch 107/150\n",
      "77/77 [==============================] - 0s 4ms/step - loss: 0.5628 - accuracy: 0.6979\n",
      "Epoch 108/150\n",
      "77/77 [==============================] - 0s 3ms/step - loss: 0.5680 - accuracy: 0.7044\n",
      "Epoch 109/150\n",
      "77/77 [==============================] - 0s 3ms/step - loss: 0.5613 - accuracy: 0.7109\n",
      "Epoch 110/150\n",
      "77/77 [==============================] - 0s 3ms/step - loss: 0.5626 - accuracy: 0.7096\n",
      "Epoch 111/150\n",
      "77/77 [==============================] - 0s 3ms/step - loss: 0.5664 - accuracy: 0.7031\n",
      "Epoch 112/150\n",
      "77/77 [==============================] - 0s 3ms/step - loss: 0.5625 - accuracy: 0.7031\n",
      "Epoch 113/150\n",
      "77/77 [==============================] - 0s 4ms/step - loss: 0.5607 - accuracy: 0.7031\n",
      "Epoch 114/150\n",
      "77/77 [==============================] - 0s 3ms/step - loss: 0.5616 - accuracy: 0.7018\n",
      "Epoch 115/150\n",
      "77/77 [==============================] - 0s 3ms/step - loss: 0.5624 - accuracy: 0.7083\n",
      "Epoch 116/150\n",
      "77/77 [==============================] - 0s 3ms/step - loss: 0.5628 - accuracy: 0.7044\n",
      "Epoch 117/150\n",
      "77/77 [==============================] - 0s 3ms/step - loss: 0.5705 - accuracy: 0.7018\n",
      "Epoch 118/150\n",
      "77/77 [==============================] - 0s 3ms/step - loss: 0.5568 - accuracy: 0.7083\n",
      "Epoch 119/150\n",
      "77/77 [==============================] - 0s 3ms/step - loss: 0.5625 - accuracy: 0.7044\n",
      "Epoch 120/150\n",
      "77/77 [==============================] - 0s 3ms/step - loss: 0.5642 - accuracy: 0.7109\n",
      "Epoch 121/150\n",
      "77/77 [==============================] - 0s 3ms/step - loss: 0.5655 - accuracy: 0.7044\n",
      "Epoch 122/150\n",
      "77/77 [==============================] - 0s 3ms/step - loss: 0.5619 - accuracy: 0.7044\n",
      "Epoch 123/150\n",
      "77/77 [==============================] - 0s 3ms/step - loss: 0.5595 - accuracy: 0.7044\n",
      "Epoch 124/150\n",
      "77/77 [==============================] - 0s 3ms/step - loss: 0.5573 - accuracy: 0.7083\n",
      "Epoch 125/150\n",
      "77/77 [==============================] - 0s 3ms/step - loss: 0.5666 - accuracy: 0.7005\n",
      "Epoch 126/150\n",
      "77/77 [==============================] - 0s 3ms/step - loss: 0.5580 - accuracy: 0.7083\n",
      "Epoch 127/150\n",
      "77/77 [==============================] - 0s 4ms/step - loss: 0.5579 - accuracy: 0.7018\n",
      "Epoch 128/150\n",
      "77/77 [==============================] - 0s 5ms/step - loss: 0.5605 - accuracy: 0.7057\n",
      "Epoch 129/150\n",
      "77/77 [==============================] - 0s 4ms/step - loss: 0.5596 - accuracy: 0.7044\n",
      "Epoch 130/150\n",
      "77/77 [==============================] - 0s 3ms/step - loss: 0.5601 - accuracy: 0.6953\n",
      "Epoch 131/150\n",
      "77/77 [==============================] - 0s 3ms/step - loss: 0.5582 - accuracy: 0.7083\n",
      "Epoch 132/150\n",
      "77/77 [==============================] - 0s 4ms/step - loss: 0.5553 - accuracy: 0.7096\n",
      "Epoch 133/150\n",
      "77/77 [==============================] - 0s 3ms/step - loss: 0.5581 - accuracy: 0.6979\n",
      "Epoch 134/150\n",
      "77/77 [==============================] - 0s 3ms/step - loss: 0.5571 - accuracy: 0.7070\n",
      "Epoch 135/150\n",
      "77/77 [==============================] - 0s 3ms/step - loss: 0.5527 - accuracy: 0.7005\n",
      "Epoch 136/150\n",
      "77/77 [==============================] - 0s 3ms/step - loss: 0.5598 - accuracy: 0.7070\n",
      "Epoch 137/150\n",
      "77/77 [==============================] - 0s 3ms/step - loss: 0.5571 - accuracy: 0.7109\n",
      "Epoch 138/150\n",
      "77/77 [==============================] - 0s 3ms/step - loss: 0.5549 - accuracy: 0.7135\n",
      "Epoch 139/150\n",
      "77/77 [==============================] - 0s 3ms/step - loss: 0.5546 - accuracy: 0.7148\n",
      "Epoch 140/150\n",
      "77/77 [==============================] - 0s 4ms/step - loss: 0.5534 - accuracy: 0.7096\n",
      "Epoch 141/150\n",
      "77/77 [==============================] - 0s 4ms/step - loss: 0.5533 - accuracy: 0.7070\n",
      "Epoch 142/150\n",
      "77/77 [==============================] - 0s 3ms/step - loss: 0.5559 - accuracy: 0.7018\n",
      "Epoch 143/150\n",
      "77/77 [==============================] - 0s 3ms/step - loss: 0.5698 - accuracy: 0.7109\n",
      "Epoch 144/150\n",
      "77/77 [==============================] - 0s 3ms/step - loss: 0.5617 - accuracy: 0.6966\n",
      "Epoch 145/150\n",
      "77/77 [==============================] - 0s 3ms/step - loss: 0.5552 - accuracy: 0.7031\n",
      "Epoch 146/150\n",
      "77/77 [==============================] - 0s 3ms/step - loss: 0.5553 - accuracy: 0.7031\n",
      "Epoch 147/150\n",
      "77/77 [==============================] - 0s 3ms/step - loss: 0.5511 - accuracy: 0.7096\n",
      "Epoch 148/150\n",
      "77/77 [==============================] - 0s 3ms/step - loss: 0.5608 - accuracy: 0.7018\n",
      "Epoch 149/150\n",
      "77/77 [==============================] - 0s 5ms/step - loss: 0.5523 - accuracy: 0.7096\n",
      "Epoch 150/150\n",
      "77/77 [==============================] - 0s 3ms/step - loss: 0.5585 - accuracy: 0.7031\n"
     ]
    },
    {
     "data": {
      "text/plain": [
       "<keras.callbacks.History at 0x2a1a98a8580>"
      ]
     },
     "execution_count": 8,
     "metadata": {},
     "output_type": "execute_result"
    }
   ],
   "source": [
    "model.fit(X,y,epochs=150,batch_size=10)"
   ]
  },
  {
   "cell_type": "markdown",
   "id": "b69e2494",
   "metadata": {},
   "source": [
    "# Evaluate The Keras Model"
   ]
  },
  {
   "cell_type": "code",
   "execution_count": 9,
   "id": "9e2e7dbd",
   "metadata": {},
   "outputs": [
    {
     "name": "stdout",
     "output_type": "stream",
     "text": [
      "24/24 [==============================] - 1s 3ms/step - loss: 0.5521 - accuracy: 0.7122\n",
      "Accuracy: 71.223956\n"
     ]
    }
   ],
   "source": [
    "_,accuracy = model.evaluate(X,y)\n",
    "\n",
    "print('Accuracy: %2f'%(accuracy*100))"
   ]
  },
  {
   "cell_type": "code",
   "execution_count": 10,
   "id": "cc00ba90",
   "metadata": {},
   "outputs": [
    {
     "name": "stdout",
     "output_type": "stream",
     "text": [
      "Model: \"sequential\"\n",
      "_________________________________________________________________\n",
      " Layer (type)                Output Shape              Param #   \n",
      "=================================================================\n",
      " dense (Dense)               (None, 12)                108       \n",
      "                                                                 \n",
      " dense_1 (Dense)             (None, 8)                 104       \n",
      "                                                                 \n",
      " dense_2 (Dense)             (None, 1)                 9         \n",
      "                                                                 \n",
      "=================================================================\n",
      "Total params: 221\n",
      "Trainable params: 221\n",
      "Non-trainable params: 0\n",
      "_________________________________________________________________\n"
     ]
    }
   ],
   "source": [
    "model.summary()"
   ]
  }
 ],
 "metadata": {
  "kernelspec": {
   "display_name": "Python 3",
   "language": "python",
   "name": "python3"
  },
  "language_info": {
   "codemirror_mode": {
    "name": "ipython",
    "version": 3
   },
   "file_extension": ".py",
   "mimetype": "text/x-python",
   "name": "python",
   "nbconvert_exporter": "python",
   "pygments_lexer": "ipython3",
   "version": "3.10.1"
  }
 },
 "nbformat": 4,
 "nbformat_minor": 5
}
